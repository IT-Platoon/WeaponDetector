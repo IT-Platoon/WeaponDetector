{
 "cells": [
  {
   "cell_type": "markdown",
   "id": "f1b08a05-ce64-4fcc-a09c-84807365eb69",
   "metadata": {},
   "source": [
    "# Настройка Ultralytics"
   ]
  },
  {
   "cell_type": "markdown",
   "id": "976a2350-582f-4fbf-a06b-3ce2b24ff060",
   "metadata": {},
   "source": [
    "## Настройка путей проекта"
   ]
  },
  {
   "cell_type": "code",
   "execution_count": 1,
   "id": "27a7476d-7898-4a40-9ad3-4bdfd10014c4",
   "metadata": {},
   "outputs": [
    {
     "name": "stdout",
     "output_type": "stream",
     "text": [
      "ML_PATH = 'F:\\\\study\\\\Hackatons\\\\WeaponDetectorTemp\\\\weapon_detector\\\\ml'\n"
     ]
    },
    {
     "data": {
      "text/plain": [
       "[' Learn about settings at https://docs.ultralytics.com/quickstart/#ultralytics-settings',\n",
       " \"Printing '\\x1b[1m\\x1b[30mC:\\\\Users\\\\\\\\AppData\\\\Roaming\\\\Ultralytics\\\\settings.yaml\\x1b[0m'\",\n",
       " '',\n",
       " 'settings_version: 0.0.4',\n",
       " 'datasets_dir: F:\\\\study\\\\Hackatons\\\\WeaponDetectorTemp\\\\weapon_detector\\\\ml\\\\dataset',\n",
       " 'weights_dir: F:\\\\study\\\\Hackatons\\\\WeaponDetectorTemp\\\\weapon_detector\\\\ml\\\\weights',\n",
       " 'runs_dir: F:\\\\study\\\\Hackatons\\\\WeaponDetectorTemp\\\\weapon_detector\\\\ml\\\\runs',\n",
       " 'uuid: a6ecc2232d13c88785242986ba7a504360bb89af8998f12529fbadaf59e76b00',\n",
       " 'sync: true',\n",
       " \"api_key: ''\",\n",
       " 'clearml: true',\n",
       " 'comet: true',\n",
       " 'dvc: true',\n",
       " 'hub: true',\n",
       " 'mlflow: true',\n",
       " 'neptune: true',\n",
       " 'raytune: true',\n",
       " 'tensorboard: true',\n",
       " 'wandb: true',\n",
       " '']"
      ]
     },
     "execution_count": 1,
     "metadata": {},
     "output_type": "execute_result"
    }
   ],
   "source": [
    "import os\n",
    "path = os.getcwd()\n",
    "ML_PATH = os.path.abspath(os.path.join(path, os.pardir))\n",
    "print(f'{ML_PATH = }')\n",
    "\n",
    "_ = !yolo settings datasets_dir={ML_PATH}\\dataset\n",
    "_ = !yolo settings weights_dir={ML_PATH}\\weights\n",
    "_ = !yolo settings runs_dir={ML_PATH}\\runs\n",
    "_"
   ]
  },
  {
   "cell_type": "markdown",
   "id": "1128f553-af9a-4882-86b7-2ec0b981c643",
   "metadata": {},
   "source": [
    "## Посмотреть инфу о видеокарте для CUDA"
   ]
  },
  {
   "cell_type": "code",
   "execution_count": null,
   "id": "b5389158-99db-4564-920a-b650795dfdd1",
   "metadata": {},
   "outputs": [],
   "source": [
    "import ultralytics\n",
    "ultralytics.checks()"
   ]
  },
  {
   "cell_type": "code",
   "execution_count": null,
   "id": "3555d9e2-b380-4106-b539-593b95d134d1",
   "metadata": {},
   "outputs": [],
   "source": [
    "!nvidia-smi"
   ]
  }
 ],
 "metadata": {
  "kernelspec": {
   "display_name": "Python 3 (ipykernel)",
   "language": "python",
   "name": "python3"
  },
  "language_info": {
   "codemirror_mode": {
    "name": "ipython",
    "version": 3
   },
   "file_extension": ".py",
   "mimetype": "text/x-python",
   "name": "python",
   "nbconvert_exporter": "python",
   "pygments_lexer": "ipython3",
   "version": "3.11.5"
  }
 },
 "nbformat": 4,
 "nbformat_minor": 5
}
