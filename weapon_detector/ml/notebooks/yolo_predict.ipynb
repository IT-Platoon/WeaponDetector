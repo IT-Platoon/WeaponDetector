{
 "cells": [
  {
   "cell_type": "code",
   "execution_count": null,
   "id": "9fc86a79-6adc-4ee4-b7d0-78ca8938ad94",
   "metadata": {},
   "outputs": [],
   "source": [
    "from ultralytics import YOLO\n",
    "from PIL import Image\n",
    "from IPython.display import display\n",
    "import pandas as pd\n",
    "from collections import Counter"
   ]
  },
  {
   "cell_type": "markdown",
   "id": "5cc84d2b-a379-4ec6-9dc5-1a7b551845bf",
   "metadata": {},
   "source": [
    "# Гиперпараметры"
   ]
  },
  {
   "cell_type": "code",
   "execution_count": null,
   "id": "40d8b06a-7aec-4ddc-a8f9-8a0bf2ae386a",
   "metadata": {},
   "outputs": [],
   "source": [
    "DICT_CLASSES_INT = {'gun': 0, 'person': 1}\n",
    "DICT_INT_CLASSES = {v:k for k, v in DICT_CLASSES_INT.items()}\n",
    "\n",
    "# Список моделей.\n",
    "MODEL_PARAMS = [\n",
    "    {'EXPERIMENT_NAME': 'yolov8n_experiment5', 'MODEL_NAME': 'best.pt', 'IMGSZ': 640},\n",
    "    {'EXPERIMENT_NAME': 'yolov8n_tune5', 'MODEL_NAME': 'best.pt', 'IMGSZ': 640},\n",
    "]\n",
    "\n",
    "# Создание путей до обученной модели.\n",
    "PATH_TO_MODEL = lambda exp_name, model_name: f'../runs/detect/{exp_name}/weights/{model_name}'\n",
    "\n",
    "# Данные для тестирования\n",
    "PATH_TO_TEST_DATASET = '../dataset/valid/images/'\n",
    "\n",
    "# Параметры для тестирования\n",
    "COMPARE_BY_COUNT = True  # Сравнивать по количеству, иначе по conf(достоверности предсказания)\n",
    "TEST_PARAMS = {\n",
    "    'source': PATH_TO_TEST_DATASET,\n",
    "    'save': False,\n",
    "    'show': False,\n",
    "    'verbose': False,\n",
    "\n",
    "    'imgsz': 640,\n",
    "    'conf': 0.25,  # порог достоверности обнаружения объекта | попробовать 0.2 потом\n",
    "    'iou': 0.7,  # пересечение порога объединения (IOU)\n",
    "}"
   ]
  },
  {
   "cell_type": "markdown",
   "id": "85fbac92-d52a-4079-94fc-24935aa27d9a",
   "metadata": {},
   "source": [
    "Проверка GPU"
   ]
  },
  {
   "cell_type": "code",
   "execution_count": null,
   "id": "ea26817a-5749-45ca-8056-1e5c26c71cae",
   "metadata": {},
   "outputs": [],
   "source": [
    "import ultralytics\n",
    "ultralytics.checks()"
   ]
  },
  {
   "cell_type": "code",
   "execution_count": null,
   "id": "7534d7ab-d52b-437d-8c1e-66713f4d44da",
   "metadata": {},
   "outputs": [],
   "source": [
    "import torch\n",
    "\n",
    "cuda_flag = torch.cuda.is_available()\n",
    "device = 'cuda' if cuda_flag else 'cpu'\n",
    "device"
   ]
  },
  {
   "cell_type": "markdown",
   "id": "5205f38a-ae46-49e9-82d1-a38161830072",
   "metadata": {},
   "source": [
    "Необходимые функции"
   ]
  },
  {
   "cell_type": "code",
   "execution_count": null,
   "id": "507525c5-4191-4e4b-9fc2-8634a954c902",
   "metadata": {},
   "outputs": [],
   "source": [
    "from typing import Dict, Union, Tuple, List\n",
    "\n",
    "\n",
    "def create_model_test_params(model_params: Dict[str, Union[str, int]]) -> Tuple[str, str]:\n",
    "    \"\"\"Создание параметров для тестирования конкретной модели.\"\"\"\n",
    "    path_to_model = PATH_TO_MODEL(model_params['EXPERIMENT_NAME'], model_params['MODEL_NAME'])\n",
    "\n",
    "    test_params = TEST_PARAMS.copy()\n",
    "    test_params['imgsz'] = model_params['IMGSZ']\n",
    "    return path_to_model, test_params\n",
    "\n",
    "\n",
    "def show_pred_img(preds: List, index_show: int) -> None:\n",
    "    \"\"\"Результат работы модели на одной картинке\"\"\"\n",
    "    img = preds[index_show].plot()\n",
    "    img = Image.fromarray(img[..., ::-1])\n",
    "    display(img)\n",
    "\n",
    "\n",
    "def get_classes_images(model, preds: List) -> Dict[str, List[Dict[str, Union[str, float]]]]:\n",
    "    \"\"\"Получаем классы, предсказанные одной моделью.\"\"\"\n",
    "    result = {}\n",
    "\n",
    "    names = model.names\n",
    "    for pred in preds:\n",
    "        path = pred.path\n",
    "        path = path.split('images')[-1][1:]                                             # TODO: возможно название картинки нужно менять.\n",
    "        result[path] = []\n",
    "        for i in range(len(pred.boxes.cls)):\n",
    "            cls = pred.boxes.cls[i]\n",
    "            conf = pred.boxes.conf[i]\n",
    "            tmp_dict = {'class': names[int(cls)], 'conf': conf.item()}\n",
    "            result[path].append(tmp_dict)\n",
    "    return result\n",
    "\n",
    "\n",
    "def create_df_predicts(model_result: Dict[str, Union[str, Dict]], filename_csv: str) -> pd.DataFrame:\n",
    "    \"\"\"Создание DataFrame и csv-файла для submission.\n",
    "\n",
    "    model_result:\n",
    "        {'path_to_model': str, 'class_images': {str: [{'class': str,'conf': float}, ], }} \"\"\"\n",
    "\n",
    "    lst_image_names = list(model_result['class_images'].keys())\n",
    "    lst_image_class = []\n",
    "\n",
    "    for lst in model_result['class_images'].values():\n",
    "\n",
    "        # Считаем кол-во классов, определённых на изображении.\n",
    "        dict_counter_classes = {key: 0 for key in DICT_CLASSES_INT.keys()}                     # TODO: возможно надо будет поменять.\n",
    "        for dct in lst:\n",
    "            dict_counter_classes[dct['class']] += 1 if COMPARE_BY_COUNT else dct['conf']\n",
    "\n",
    "        # Названием метку изображению по бОльшему кол-ву найденных классов.\n",
    "        result_class = Counter(dict_counter_classes).most_common()[0][0]\n",
    "        # result_class = DICT_CLASSES_INT[result_class]                                        # Если нужно не str, а int\n",
    "        lst_image_class.append(result_class)\n",
    "\n",
    "    df = pd.DataFrame({'image_name': lst_image_names, 'class': lst_image_class})\n",
    "    df.to_csv(filename_csv, index=False)\n",
    "    print(f'CSV-файл сохранён: {filename_csv}')\n",
    "    return df\n",
    "\n",
    "\n",
    "def predict(model_param: dict, index_show: int = 0) -> Dict[str, Union[str, Dict]]:\n",
    "    \"\"\"Получение предсказаний от одной модели.\n",
    "    \n",
    "    returns:\n",
    "        {'path_to_model': str, 'class_images': {str: [{'class': str,'conf': float}, ], }}\"\"\"\n",
    "    path_to_model, test_params = create_model_test_params(model_param)\n",
    "    \n",
    "    model = YOLO(path_to_model)\n",
    "    preds = model.predict(**test_params, device=device)\n",
    "\n",
    "    # Вывод предсказанной картинки.\n",
    "    print(f'Model = {path_to_model}')\n",
    "    show_pred_img(preds, index_show)\n",
    "\n",
    "    classes_images = get_classes_images(model, preds)\n",
    "    model_result = {'path_to_model': path_to_model, 'class_images': classes_images}\n",
    "    return model_result\n",
    "\n",
    "\n",
    "def voting_predict(lst_dataframe_results: List[pd.DataFrame], filename_csv: str) -> Dict[str, str]:\n",
    "    \"\"\"Голосование моделей по количеству.\"\"\"\n",
    "\n",
    "    lst_image_names = lst_dataframe_results[0].image_name.values\n",
    "    lst_image_class = []\n",
    "    \n",
    "    for i in range(lst_dataframe_results[0].shape[0]):\n",
    "        dict_counter_classes = {key: 0 for key in DICT_CLASSES_INT.keys()}\n",
    "        for df in lst_dataframe_results:\n",
    "            tmp_class = df['class'].values[i]\n",
    "            # tmp_class = DICT_INT_CLASSES[tmp_class]                                         # Если в df классы представлены числами, а не строками.\n",
    "            dict_counter_classes[tmp_class] += 1\n",
    "\n",
    "        result_class = Counter(dict_counter_classes).most_common()[0][0]\n",
    "        # result_class = DICT_CLASSES_INT[result_class]                                        # Если нужно не str, а int\n",
    "        lst_image_class.append(result_class)\n",
    "        \n",
    "    df = pd.DataFrame({'image_name': lst_image_names, 'class': lst_image_class})\n",
    "    df.to_csv(filename_csv, index=False)\n",
    "    print(f'CSV-файл сохранён: {filename_csv}')\n",
    "    return df"
   ]
  },
  {
   "cell_type": "markdown",
   "id": "649f13ea-ce95-461b-87f8-4bb7e11447a7",
   "metadata": {},
   "source": [
    "# Yolo Ensemble-Voting Test"
   ]
  },
  {
   "cell_type": "code",
   "execution_count": null,
   "id": "2bb2221a-7010-425d-bb59-791c8eaec335",
   "metadata": {},
   "outputs": [],
   "source": [
    "lst_dataframe_results = []\n",
    "\n",
    "for model_param in MODEL_PARAMS:\n",
    "    model_result = predict(model_param)\n",
    "\n",
    "    # Сохранение результата одной модели\n",
    "    filename_csv = f'{model_param[\"EXPERIMENT_NAME\"]}_{model_param[\"MODEL_NAME\"].split(\".\")[0]}.csv'\n",
    "    df = create_df_predicts(model_result, filename_csv)\n",
    "    \n",
    "    lst_dataframe_results.append(df)"
   ]
  },
  {
   "cell_type": "markdown",
   "id": "6fb1caec-caf5-49f5-896d-373dd2600942",
   "metadata": {},
   "source": [
    "Пример созданного DataFrame"
   ]
  },
  {
   "cell_type": "code",
   "execution_count": null,
   "id": "2a79b69e-4d06-4fba-bd4c-1aae746d8d5f",
   "metadata": {},
   "outputs": [],
   "source": [
    "example_df = lst_dataframe_results[0]\n",
    "example_df"
   ]
  },
  {
   "cell_type": "markdown",
   "id": "50d26012-e293-4280-addf-67ff502a0ddd",
   "metadata": {},
   "source": [
    "Создаём ансамбль голосования моделей"
   ]
  },
  {
   "cell_type": "code",
   "execution_count": null,
   "id": "5b3347da-85b7-4343-a59a-02bf6abdcdc8",
   "metadata": {},
   "outputs": [],
   "source": [
    "filename_csv = 'voting.csv'\n",
    "voting_predict(lst_dataframe_results, filename_csv)"
   ]
  }
 ],
 "metadata": {
  "kernelspec": {
   "display_name": "Python 3 (ipykernel)",
   "language": "python",
   "name": "python3"
  },
  "language_info": {
   "codemirror_mode": {
    "name": "ipython",
    "version": 3
   },
   "file_extension": ".py",
   "mimetype": "text/x-python",
   "name": "python",
   "nbconvert_exporter": "python",
   "pygments_lexer": "ipython3",
   "version": "3.11.5"
  }
 },
 "nbformat": 4,
 "nbformat_minor": 5
}
