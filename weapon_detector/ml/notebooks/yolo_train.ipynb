{
 "cells": [
  {
   "cell_type": "code",
   "execution_count": null,
   "id": "c5a1178d-9403-4fcf-85e0-031c8fe54d9c",
   "metadata": {},
   "outputs": [],
   "source": [
    "from ultralytics import YOLO"
   ]
  },
  {
   "cell_type": "markdown",
   "id": "4192e42f-c877-4725-950f-71116bb058b3",
   "metadata": {},
   "source": [
    "# Гиперпараметры"
   ]
  },
  {
   "cell_type": "code",
   "execution_count": null,
   "id": "4cb71086-9e8c-4e69-83b9-110e1c734c1c",
   "metadata": {},
   "outputs": [],
   "source": [
    "# Train params:\n",
    "TRAIN_MODEL = 'yolov8n.pt'\n",
    "TRAIN_PARAMS = {\n",
    "    'data': '../dataset/data.yaml',\n",
    "    'name': 'yolo8n',  # Название эксперимента\n",
    "    \n",
    "    'seed': 0,\n",
    "    'epochs': 5,\n",
    "    'patience': 8,  # Ранняя остановка (кол-во эпох)\n",
    "    'batch': 8,\n",
    "    'imgsz': 640,\n",
    "\n",
    "    'amp': True,  # Автоматическое обучение смешанной точности (AMP)\n",
    "    'optimizer': 'auto',  # [SGD, Adam, Adamax, AdamW, NAdam, RAdam, RMSProp, auto]\n",
    "    'lr0': 0.01,  # начальная скорость обучения (т.е. SGD=1E-2, Adam=1E-3)\n",
    "    'lrf': 0.01,  # конечная скорость обучения (lr0 * lrf)\n",
    "    'momentum': 0.937,  # SGD momentum/Адам бета1\n",
    "    'weight_decay': 0.0005,\t # оптимизатор снижения веса 5e-4\n",
    "    'warmup_epochs': 3.0,  # кол-во эпох прогрева\n",
    "    'warmup_momentum': 0.8,\t # разогревающий initial momentum\n",
    "    'warmup_bias_lr': 0.1,  # начальное смещение прогрева lr\n",
    "\n",
    "    'close_mosaic': 4,  # отключить увеличение мозаики для конечных эпох (0 для отключения)\n",
    "    'resume': False,  # Если продолжаем обучать модель - True\n",
    "}\n",
    "\n",
    "# Augmentation params:\n",
    "AUGMENTATION_PARAMS = {\n",
    "    'hsv_h': 0.015,  # увеличение HSV-оттенка изображения (доля)\n",
    "    'hsv_s': 0.7,\t # увеличение насыщенности изображения HSV (доля)\n",
    "    'hsv_v': 0.4,\t # увеличение значения ВПГ на изображении (доля)\n",
    "    'degrees': 0.0,\t# поворот изображения (+/- град)\n",
    "    'translate': 0.1,\t # перевод изображения (+/- доля)\n",
    "    'scale': 0.5,\t # масштаб изображения (+/- усиление)\n",
    "    'shear': 0.0,\t # сдвиг изображения (+/- град)\n",
    "    'perspective': 0.0,\t# перспектива изображения (+/- доля), диапазон 0-0,001\n",
    "    'flipud': 0.0,  # переворачивание изображения вверх-вниз (вероятность)\n",
    "    'fliplr': 0.5,  # переворот изображения влево-вправо (вероятность)\n",
    "    'mosaic': 1.0,  # мозаика изображений (вероятность)\n",
    "    'mixup': 0.0,  # путаница изображений (вероятность)\n",
    "    'copy_paste': 0.0,  # копирование-вставка сегмента (вероятность)\n",
    "}"
   ]
  },
  {
   "cell_type": "markdown",
   "id": "51c89c3d-54a6-43c9-91fb-c4c732c32f88",
   "metadata": {},
   "source": [
    "Проверка GPU"
   ]
  },
  {
   "cell_type": "code",
   "execution_count": null,
   "id": "c760c934-999a-47be-9803-f9fae0081827",
   "metadata": {},
   "outputs": [],
   "source": [
    "import ultralytics\n",
    "ultralytics.checks()"
   ]
  },
  {
   "cell_type": "code",
   "execution_count": null,
   "id": "f19249d3-828c-4859-a67c-64ea99406bde",
   "metadata": {},
   "outputs": [],
   "source": [
    "import torch\n",
    "\n",
    "cuda_flag = torch.cuda.is_available()\n",
    "device = 'cuda' if cuda_flag else 'cpu'\n",
    "device"
   ]
  },
  {
   "cell_type": "markdown",
   "id": "377619ab-3c03-4937-8cd9-5c2699f1679a",
   "metadata": {},
   "source": [
    "# Yolo Train"
   ]
  },
  {
   "cell_type": "code",
   "execution_count": null,
   "id": "da6da129-b40d-4eda-a4dd-3c7997c3e982",
   "metadata": {},
   "outputs": [],
   "source": [
    "model = YOLO(TRAIN_MODEL)\n",
    "results = model.train(**TRAIN_PARAMS, **AUGMENTATION_PARAMS, device=device)"
   ]
  }
 ],
 "metadata": {
  "kernelspec": {
   "display_name": "Python 3 (ipykernel)",
   "language": "python",
   "name": "python3"
  },
  "language_info": {
   "codemirror_mode": {
    "name": "ipython",
    "version": 3
   },
   "file_extension": ".py",
   "mimetype": "text/x-python",
   "name": "python",
   "nbconvert_exporter": "python",
   "pygments_lexer": "ipython3",
   "version": "3.11.5"
  }
 },
 "nbformat": 4,
 "nbformat_minor": 5
}
